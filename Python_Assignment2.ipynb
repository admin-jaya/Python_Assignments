{
 "cells": [
  {
   "cell_type": "markdown",
   "id": "f9168d4b",
   "metadata": {},
   "source": [
    "### Assignment_2"
   ]
  },
  {
   "cell_type": "markdown",
   "id": "7ca1625d",
   "metadata": {},
   "source": [
    "### 1. Print the input text without vowels \n",
    "\n",
    "#### input = 'hai'\n",
    "\n",
    "#### Expected output = h"
   ]
  },
  {
   "cell_type": "code",
   "execution_count": 5,
   "id": "34bb4b06",
   "metadata": {},
   "outputs": [
    {
     "name": "stdout",
     "output_type": "stream",
     "text": [
      "h\n"
     ]
    }
   ],
   "source": [
    "a = 'hai'\n",
    "print(a[0])"
   ]
  },
  {
   "cell_type": "markdown",
   "id": "4337d653",
   "metadata": {},
   "source": [
    "### 2 . Print only vowels from the text \n",
    "\n",
    "#### input = data \n",
    "\n",
    "#### Expected output = dt "
   ]
  },
  {
   "cell_type": "code",
   "execution_count": 15,
   "id": "6518ff86",
   "metadata": {},
   "outputs": [
    {
     "name": "stdout",
     "output_type": "stream",
     "text": [
      "Dt"
     ]
    }
   ],
   "source": [
    "a = 'Data'\n",
    "for i in a:\n",
    "    if(i not in 'aeiouAEIOU'):\n",
    "        print(i, end ='')\n",
    "    "
   ]
  },
  {
   "cell_type": "markdown",
   "id": "bafe6389",
   "metadata": {},
   "source": [
    "### 3. Print each valu from the list with its index \n",
    "\n",
    "#### input = [10,11,50,34]\n",
    "\n",
    "#### Expected output = [100 , 111 , 502 , 343]"
   ]
  },
  {
   "cell_type": "code",
   "execution_count": 37,
   "id": "58867e12",
   "metadata": {},
   "outputs": [
    {
     "name": "stdout",
     "output_type": "stream",
     "text": [
      "[100, 111, 502, 343]\n"
     ]
    }
   ],
   "source": [
    "a = [10,11,50,34]\n",
    "count = []\n",
    "for i,j in enumerate(a): # enumeration takes both index and value.\n",
    "    result = j * 10 + i\n",
    "    count.append(result)\n",
    "print(count)   "
   ]
  },
  {
   "cell_type": "markdown",
   "id": "d0750449",
   "metadata": {},
   "source": [
    "### 4. This is a Python Program to print all integers that aren’t divisible by either 2 or 3 and lies between 1 and 50."
   ]
  },
  {
   "cell_type": "code",
   "execution_count": 43,
   "id": "5ed3b2e3",
   "metadata": {},
   "outputs": [
    {
     "name": "stdout",
     "output_type": "stream",
     "text": [
      "1\n",
      "5\n",
      "7\n",
      "11\n",
      "13\n",
      "17\n",
      "19\n",
      "23\n",
      "25\n",
      "29\n",
      "31\n",
      "35\n",
      "37\n",
      "41\n",
      "43\n",
      "47\n",
      "49\n"
     ]
    }
   ],
   "source": [
    "for i in range(1,51):\n",
    "    if i % 2 != 0 and i % 3 != 0:\n",
    "        print(i)"
   ]
  },
  {
   "cell_type": "markdown",
   "id": "a2162aee",
   "metadata": {},
   "source": [
    "### 5. The program takes in an integer and prints the smallest divisor of the integer."
   ]
  },
  {
   "cell_type": "code",
   "execution_count": 2,
   "id": "791de89f",
   "metadata": {},
   "outputs": [],
   "source": [
    "def smallest_divisor(n):\n",
    "    if n < 2:\n",
    "        return None\n",
    "    \n",
    "    for divisor in range(2, 15):\n",
    "        if n % divisor == 0:\n",
    "            return divisor\n",
    "    \n",
    "    return n\n"
   ]
  },
  {
   "cell_type": "code",
   "execution_count": 3,
   "id": "23bfe46e",
   "metadata": {},
   "outputs": [
    {
     "name": "stdout",
     "output_type": "stream",
     "text": [
      "The smallest divisor of 14 is 2\n"
     ]
    }
   ],
   "source": [
    "num = 14\n",
    "result = smallest_divisor(num)\n",
    "\n",
    "if result is None:\n",
    "    print(\"The number should be greater than 1.\")\n",
    "else:\n",
    "    print(\"The smallest divisor of\", num, \"is\", result)\n"
   ]
  },
  {
   "cell_type": "markdown",
   "id": "33cc21ef",
   "metadata": {},
   "source": [
    " ### 6. Write a Python program to check if it is a strong number or not ."
   ]
  },
  {
   "cell_type": "code",
   "execution_count": 4,
   "id": "59aa1b98",
   "metadata": {},
   "outputs": [
    {
     "name": "stdout",
     "output_type": "stream",
     "text": [
      "Enter the number: 145\n",
      "strong number\n"
     ]
    }
   ],
   "source": [
    "n = int(input('Enter the number: '))\n",
    "s = 0\n",
    "temp = n\n",
    "while n>0:\n",
    "    digit = n%10\n",
    "    fact = 1\n",
    "    for i in range(1,digit+1):\n",
    "        fact = fact * i\n",
    "    s = s+fact\n",
    "    n = n // 10\n",
    "if(s == temp):\n",
    "    print(\"strong number\")\n",
    "else:\n",
    "    print(\"not a strong number\")\n"
   ]
  },
  {
   "cell_type": "markdown",
   "id": "a8b42cb2",
   "metadata": {},
   "source": [
    "### 7. Write a Python program that takes input from the user and displays that input back in upper and lower cases."
   ]
  },
  {
   "cell_type": "code",
   "execution_count": 25,
   "id": "0b79de05",
   "metadata": {},
   "outputs": [
    {
     "name": "stdout",
     "output_type": "stream",
     "text": [
      "Eneter a string: I'm a data scientist\n",
      "Upper:  I'M A DATA SCIENTIST\n",
      "Lower:  i'm a data scientist\n"
     ]
    }
   ],
   "source": [
    "user_input = input(\"Eneter a string: \")\n",
    "print(\"Upper: \",user_input.upper())\n",
    "print(\"Lower: \",user_input.lower())"
   ]
  },
  {
   "cell_type": "markdown",
   "id": "b912f8f2",
   "metadata": {},
   "source": [
    "### 8. Write a Python program to remove spaces from a given string"
   ]
  },
  {
   "cell_type": "code",
   "execution_count": 27,
   "id": "121a62a5",
   "metadata": {},
   "outputs": [
    {
     "name": "stdout",
     "output_type": "stream",
     "text": [
      "datascience\n"
     ]
    }
   ],
   "source": [
    "string = \"data science\"\n",
    "string1 = string.replace(\" \",\"\")\n",
    "print(string1)"
   ]
  },
  {
   "cell_type": "markdown",
   "id": "b4dc6382",
   "metadata": {},
   "source": [
    "### 9. Write a Python program to capitalize first and last letters of each word of a given string."
   ]
  },
  {
   "cell_type": "code",
   "execution_count": 6,
   "id": "f6252698",
   "metadata": {},
   "outputs": [
    {
     "name": "stdout",
     "output_type": "stream",
     "text": [
      "Eneter the string: hello how are you\n",
      " HellO HoW ArE YoU \n"
     ]
    }
   ],
   "source": [
    "caps = input(\"Eneter the string: \")\n",
    "s1 = caps.title()\n",
    "s2 = s1.split()\n",
    "s3 = \" \"\n",
    "for i in s2:\n",
    "    s3+= i[:-1]+i[-1].upper()+\" \"\n",
    "print(s3)"
   ]
  },
  {
   "cell_type": "markdown",
   "id": "2ead6d93",
   "metadata": {},
   "source": [
    "### 10. Write a python program to find length of a string but should not use len keyword "
   ]
  },
  {
   "cell_type": "code",
   "execution_count": 15,
   "id": "967fa985",
   "metadata": {},
   "outputs": [
    {
     "name": "stdout",
     "output_type": "stream",
     "text": [
      "Enter the string: Data scientist\n",
      "14\n"
     ]
    }
   ],
   "source": [
    "string1 = input(\"Enter the string: \")\n",
    "sum = 0\n",
    "for i in string1:\n",
    "    sum = sum + 1\n",
    "print(sum)"
   ]
  }
 ],
 "metadata": {
  "kernelspec": {
   "display_name": "Python 3 (ipykernel)",
   "language": "python",
   "name": "python3"
  },
  "language_info": {
   "codemirror_mode": {
    "name": "ipython",
    "version": 3
   },
   "file_extension": ".py",
   "mimetype": "text/x-python",
   "name": "python",
   "nbconvert_exporter": "python",
   "pygments_lexer": "ipython3",
   "version": "3.10.9"
  }
 },
 "nbformat": 4,
 "nbformat_minor": 5
}
