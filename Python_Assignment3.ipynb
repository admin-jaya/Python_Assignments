{
 "cells": [
  {
   "cell_type": "markdown",
   "id": "825d036a",
   "metadata": {},
   "source": [
    "### 1. print the count of each character in your name in an dictionary format \n",
    "\n",
    "#### ex :\n",
    "#### input = sai kamal \n",
    "#### output = {s=1 , a = 3 , i = 1 , ' ' = 1 , k = 1 , m = 1 , l = 1}"
   ]
  },
  {
   "cell_type": "code",
   "execution_count": 3,
   "id": "826b6397",
   "metadata": {},
   "outputs": [
    {
     "name": "stdout",
     "output_type": "stream",
     "text": [
      "Enter your name: sai kamal\n",
      "{'s': 1, 'a': 3, 'i': 1, ' ': 1, 'k': 1, 'm': 1, 'l': 1}\n"
     ]
    }
   ],
   "source": [
    "name = input(\"Enter your name: \")  \n",
    "\n",
    "char_count = {} \n",
    "\n",
    "for char in name:\n",
    "    if char in char_count:\n",
    "        char_count[char] += 1\n",
    "    else:\n",
    "        char_count[char] = 1\n",
    "print(char_count)\n"
   ]
  },
  {
   "cell_type": "markdown",
   "id": "a8276085",
   "metadata": {},
   "source": [
    "### 2. Python program to find the area of a triangle whose sides are given"
   ]
  },
  {
   "cell_type": "code",
   "execution_count": 23,
   "id": "63cea9e6",
   "metadata": {},
   "outputs": [],
   "source": [
    "import math"
   ]
  },
  {
   "cell_type": "code",
   "execution_count": 26,
   "id": "cbc571e1",
   "metadata": {},
   "outputs": [
    {
     "name": "stdout",
     "output_type": "stream",
     "text": [
      "Area of trianagle:  10\n"
     ]
    }
   ],
   "source": [
    "a = 5\n",
    "b = 4\n",
    "c = 7\n",
    "sum = (a+b+c)/2\n",
    "area = math.sqrt(sum * (sum-a) * (sum-b) * (sum-c))\n",
    "print(\"Area of trianagle: \",round(area))"
   ]
  },
  {
   "cell_type": "markdown",
   "id": "ce2eba30",
   "metadata": {},
   "source": [
    "### 3. Python program to find out the average of a set of integers"
   ]
  },
  {
   "cell_type": "code",
   "execution_count": 27,
   "id": "e05ae6f9",
   "metadata": {},
   "outputs": [
    {
     "name": "stdout",
     "output_type": "stream",
     "text": [
      "Average of set of integres: 25.0\n"
     ]
    }
   ],
   "source": [
    "list1 = [10,20,30,40]\n",
    "n = len(list1)\n",
    "sum1 = 0\n",
    "for i in list1:\n",
    "    sum1 = sum1 + i\n",
    "avg = sum1/n\n",
    "print(\"Average of set of integres:\", avg)"
   ]
  },
  {
   "cell_type": "markdown",
   "id": "bc4dcb01",
   "metadata": {},
   "source": [
    "### 4. Python program to display the given integer in reverse manner"
   ]
  },
  {
   "cell_type": "code",
   "execution_count": 10,
   "id": "c5eed346",
   "metadata": {},
   "outputs": [
    {
     "name": "stdout",
     "output_type": "stream",
     "text": [
      "54321\n"
     ]
    }
   ],
   "source": [
    "integer = str(12345)\n",
    "rever = integer[::-1]\n",
    "reverse_int = int(rever)\n",
    "print(reverse_int)        "
   ]
  },
  {
   "cell_type": "markdown",
   "id": "b6e2abf1",
   "metadata": {},
   "source": [
    "### 5. Python program to find the sum of the digits of an integer using while loop"
   ]
  },
  {
   "cell_type": "code",
   "execution_count": 14,
   "id": "e4fbb72b",
   "metadata": {},
   "outputs": [
    {
     "name": "stdout",
     "output_type": "stream",
     "text": [
      "13715\n"
     ]
    }
   ],
   "source": [
    "num = 12345\n",
    "sum = 0\n",
    "while num > 0:\n",
    "    digit = num % 10\n",
    "    sum = sum + num\n",
    "    num = num // 10\n",
    "print(sum)\n",
    "    "
   ]
  },
  {
   "cell_type": "markdown",
   "id": "f1a8ec7a",
   "metadata": {},
   "source": [
    "### 6. Python program to generate the prime numbers from 1 to 100"
   ]
  },
  {
   "cell_type": "code",
   "execution_count": 26,
   "id": "bc29c519",
   "metadata": {},
   "outputs": [
    {
     "name": "stdout",
     "output_type": "stream",
     "text": [
      "2,3,5,7,11,13,17,19,23,29,31,37,41,43,47,53,59,61,67,71,73,79,83,89,97,"
     ]
    }
   ],
   "source": [
    "for i in range(2,101): \n",
    "    for j in range(2,101):\n",
    "        if i%j == 0:\n",
    "            break\n",
    "    if i == j:\n",
    "        print(i,end=\",\")"
   ]
  },
  {
   "cell_type": "markdown",
   "id": "ae7a474f",
   "metadata": {},
   "source": [
    "### 7. Python program to find the factorial of a number "
   ]
  },
  {
   "cell_type": "code",
   "execution_count": 33,
   "id": "98fd6787",
   "metadata": {},
   "outputs": [
    {
     "name": "stdout",
     "output_type": "stream",
     "text": [
      "720\n"
     ]
    }
   ],
   "source": [
    "#5!\n",
    "#5*4*3*2*1\n",
    "fact = 1\n",
    "for i in range(1,7):\n",
    "    fact = fact * i\n",
    "print(fact)"
   ]
  },
  {
   "cell_type": "markdown",
   "id": "f1fb408f",
   "metadata": {},
   "source": [
    "### 8. Python program to check whether a string is palindrome or not"
   ]
  },
  {
   "cell_type": "code",
   "execution_count": 36,
   "id": "6187989f",
   "metadata": {},
   "outputs": [
    {
     "name": "stdout",
     "output_type": "stream",
     "text": [
      "Eneter the string: madam\n",
      "Palindrome\n"
     ]
    }
   ],
   "source": [
    "num_str =input(\"Eneter the string: \")\n",
    "if num_str == num_str[::-1]:\n",
    "    print(\"Palindrome\")\n",
    "else:\n",
    "    print(\"Not a palindrom\")\n",
    "    "
   ]
  },
  {
   "cell_type": "markdown",
   "id": "32579047",
   "metadata": {},
   "source": [
    "### 9. Write a Python function to convert a given string to all uppercase if it contains at least 2 uppercase characters in the first 4 characters"
   ]
  },
  {
   "cell_type": "code",
   "execution_count": 2,
   "id": "e0e98b11",
   "metadata": {},
   "outputs": [
    {
     "name": "stdout",
     "output_type": "stream",
     "text": [
      "Python\n",
      "PYTHON\n"
     ]
    }
   ],
   "source": [
    "def to_uppercase(str1):\n",
    "    num_upper = 0\n",
    "    for letter in str1[:4]: \n",
    "        if letter.upper() == letter:\n",
    "            num_upper += 1\n",
    "    if num_upper >= 2:\n",
    "        return str1.upper()\n",
    "    return str1\n",
    "\n",
    "print(to_uppercase('Python'))\n",
    "print(to_uppercase('PyThon'))\n"
   ]
  },
  {
   "cell_type": "code",
   "execution_count": 8,
   "id": "fec72385",
   "metadata": {},
   "outputs": [
    {
     "name": "stdout",
     "output_type": "stream",
     "text": [
      "Enter the String :JavA\n",
      "JAVA\n",
      "JavA\n"
     ]
    }
   ],
   "source": [
    "str = input(\"Enter the String :\")\n",
    "num_upper = 0\n",
    "for letter in str[:4]: \n",
    "    if letter.upper() == letter:\n",
    "        num_upper += 1\n",
    "if num_upper >= 2:\n",
    "    print(str.upper())\n",
    "print(str)"
   ]
  },
  {
   "cell_type": "markdown",
   "id": "371ae500",
   "metadata": {},
   "source": [
    "### 10. Write a Python program to move spaces to the front of a given string\n",
    "#### ex:\n",
    "#### input = sai kamal\n",
    "#### output = ' saikamal'"
   ]
  },
  {
   "cell_type": "code",
   "execution_count": 20,
   "id": "6ea09731",
   "metadata": {},
   "outputs": [
    {
     "name": "stdout",
     "output_type": "stream",
     "text": [
      "String is:  saikamal\n"
     ]
    }
   ],
   "source": [
    "str1 = 'sai kamal'\n",
    "spaces = \"\"\n",
    "non_spaces = \"\"\n",
    "for char in str1:\n",
    "    if char == \" \":\n",
    "        spaces += char\n",
    "    else:\n",
    "        non_spaces += char\n",
    "print(\"String is:\",spaces + non_spaces)\n"
   ]
  },
  {
   "cell_type": "markdown",
   "id": "84cb2dda",
   "metadata": {},
   "source": [
    "### 11. Write a Python program to count Uppercase, Lowercase, special character and numeric values in a given string."
   ]
  },
  {
   "cell_type": "code",
   "execution_count": 25,
   "id": "02b4e0b6",
   "metadata": {},
   "outputs": [
    {
     "name": "stdout",
     "output_type": "stream",
     "text": [
      "Original strings :  Gahan@_123 data science\n",
      "UpperCase :  1\n",
      "LowerCase :  15\n",
      "NumberCase :  3\n",
      "SpecialCase :  4\n"
     ]
    }
   ],
   "source": [
    "str = 'Gahan@_123 data science'\n",
    "print(\"Original strings : \",str)\n",
    "upr, lwr, num, spl = 0, 0, 0, 0\n",
    "for i in range(len(str)):\n",
    "    if str[i] >= 'A' and str[i] <= 'Z':\n",
    "        upr += 1\n",
    "    elif str[i] >= 'a' and str[i] <= 'z':\n",
    "        lwr += 1\n",
    "    elif str[i] >= '0' and str[i] <= '9':\n",
    "        num += 1\n",
    "    else:\n",
    "        spl += 1\n",
    "print(\"UpperCase : \",upr)\n",
    "print(\"LowerCase : \",lwr)\n",
    "print(\"NumberCase : \",num)\n",
    "print(\"SpecialCase : \",spl)"
   ]
  }
 ],
 "metadata": {
  "kernelspec": {
   "display_name": "Python 3 (ipykernel)",
   "language": "python",
   "name": "python3"
  },
  "language_info": {
   "codemirror_mode": {
    "name": "ipython",
    "version": 3
   },
   "file_extension": ".py",
   "mimetype": "text/x-python",
   "name": "python",
   "nbconvert_exporter": "python",
   "pygments_lexer": "ipython3",
   "version": "3.10.9"
  }
 },
 "nbformat": 4,
 "nbformat_minor": 5
}
